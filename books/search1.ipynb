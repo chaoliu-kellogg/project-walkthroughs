{
 "cells": [
  {
   "cell_type": "code",
   "execution_count": 12,
   "id": "bcce33dd-579a-4527-aaea-1854eb3cc09c",
   "metadata": {},
   "outputs": [
    {
     "name": "stderr",
     "output_type": "stream",
     "text": [
      "'wc' is not recognized as an internal or external command,\n",
      "operable program or batch file.\n"
     ]
    }
   ],
   "source": [
    "!wc -l goodreads_books.json.gz"
   ]
  },
  {
   "cell_type": "code",
   "execution_count": 13,
   "id": "3b1dab18-f93e-49db-afda-00f16b6ad54f",
   "metadata": {},
   "outputs": [
    {
     "name": "stderr",
     "output_type": "stream",
     "text": [
      "'ls' is not recognized as an internal or external command,\n",
      "operable program or batch file.\n"
     ]
    }
   ],
   "source": [
    "!ls -lh | grep goodreads_books.json.gz"
   ]
  },
  {
   "cell_type": "code",
   "execution_count": 9,
   "id": "2c42e78f-c4a0-47bd-ae2c-a54da0917f79",
   "metadata": {},
   "outputs": [],
   "source": [
    "import gzip\n",
    "\n",
    "with gzip.open(\"goodreads_books.json.gz\") as f:\n",
    "    line = f.readline()"
   ]
  },
  {
   "cell_type": "code",
   "execution_count": 10,
   "id": "50cf97d6-26c3-4827-baef-ae3253bf3567",
   "metadata": {},
   "outputs": [
    {
     "data": {
      "text/plain": [
       "b'{\"isbn\": \"0312853122\", \"text_reviews_count\": \"1\", \"series\": [], \"country_code\": \"US\", \"language_code\": \"\", \"popular_shelves\": [{\"count\": \"3\", \"name\": \"to-read\"}, {\"count\": \"1\", \"name\": \"p\"}, {\"count\": \"1\", \"name\": \"collection\"}, {\"count\": \"1\", \"name\": \"w-c-fields\"}, {\"count\": \"1\", \"name\": \"biography\"}], \"asin\": \"\", \"is_ebook\": \"false\", \"average_rating\": \"4.00\", \"kindle_asin\": \"\", \"similar_books\": [], \"description\": \"\", \"format\": \"Paperback\", \"link\": \"https://www.goodreads.com/book/show/5333265-w-c-fields\", \"authors\": [{\"author_id\": \"604031\", \"role\": \"\"}], \"publisher\": \"St. Martin\\'s Press\", \"num_pages\": \"256\", \"publication_day\": \"1\", \"isbn13\": \"9780312853129\", \"publication_month\": \"9\", \"edition_information\": \"\", \"publication_year\": \"1984\", \"url\": \"https://www.goodreads.com/book/show/5333265-w-c-fields\", \"image_url\": \"https://images.gr-assets.com/books/1310220028m/5333265.jpg\", \"book_id\": \"5333265\", \"ratings_count\": \"3\", \"work_id\": \"5400751\", \"title\": \"W.C. Fields: A Life on Film\", \"title_without_series\": \"W.C. Fields: A Life on Film\"}\\n'"
      ]
     },
     "execution_count": 10,
     "metadata": {},
     "output_type": "execute_result"
    }
   ],
   "source": [
    "line"
   ]
  },
  {
   "cell_type": "code",
   "execution_count": 11,
   "id": "7f8b6cf4-ec1a-400d-992d-50ccb61d349d",
   "metadata": {},
   "outputs": [
    {
     "data": {
      "text/plain": [
       "{'isbn': '0312853122',\n",
       " 'text_reviews_count': '1',\n",
       " 'series': [],\n",
       " 'country_code': 'US',\n",
       " 'language_code': '',\n",
       " 'popular_shelves': [{'count': '3', 'name': 'to-read'},\n",
       "  {'count': '1', 'name': 'p'},\n",
       "  {'count': '1', 'name': 'collection'},\n",
       "  {'count': '1', 'name': 'w-c-fields'},\n",
       "  {'count': '1', 'name': 'biography'}],\n",
       " 'asin': '',\n",
       " 'is_ebook': 'false',\n",
       " 'average_rating': '4.00',\n",
       " 'kindle_asin': '',\n",
       " 'similar_books': [],\n",
       " 'description': '',\n",
       " 'format': 'Paperback',\n",
       " 'link': 'https://www.goodreads.com/book/show/5333265-w-c-fields',\n",
       " 'authors': [{'author_id': '604031', 'role': ''}],\n",
       " 'publisher': \"St. Martin's Press\",\n",
       " 'num_pages': '256',\n",
       " 'publication_day': '1',\n",
       " 'isbn13': '9780312853129',\n",
       " 'publication_month': '9',\n",
       " 'edition_information': '',\n",
       " 'publication_year': '1984',\n",
       " 'url': 'https://www.goodreads.com/book/show/5333265-w-c-fields',\n",
       " 'image_url': 'https://images.gr-assets.com/books/1310220028m/5333265.jpg',\n",
       " 'book_id': '5333265',\n",
       " 'ratings_count': '3',\n",
       " 'work_id': '5400751',\n",
       " 'title': 'W.C. Fields: A Life on Film',\n",
       " 'title_without_series': 'W.C. Fields: A Life on Film'}"
      ]
     },
     "execution_count": 11,
     "metadata": {},
     "output_type": "execute_result"
    }
   ],
   "source": [
    "import json\n",
    "\n",
    "data = json.loads(line)\n",
    "data"
   ]
  },
  {
   "cell_type": "code",
   "execution_count": 14,
   "id": "8273e779-d7b9-4264-9828-d06808c65034",
   "metadata": {},
   "outputs": [],
   "source": [
    "def parse_fields(line):\n",
    "    data = json.loads(line)\n",
    "    return {\n",
    "        \"book_id\": data[\"book_id\"], \n",
    "        \"title\": data[\"title_without_series\"], \n",
    "        \"ratings\": data[\"ratings_count\"], \n",
    "        \"url\": data[\"url\"], \n",
    "        \"cover_image\": data[\"image_url\"]\n",
    "    }"
   ]
  },
  {
   "cell_type": "code",
   "execution_count": 15,
   "id": "17a3ce41-de41-4ea1-bfa8-115be0e562c4",
   "metadata": {},
   "outputs": [],
   "source": [
    "books_titles = []\n",
    "with gzip.open(\"goodreads_books.json.gz\") as f:\n",
    "    while True:\n",
    "        line = f.readline()\n",
    "        if not line:\n",
    "            break\n",
    "        fields = parse_fields(line)\n",
    "        try:\n",
    "            ratings = int(fields[\"ratings\"])\n",
    "        except ValueError:\n",
    "            continue\n",
    "        if ratings > 5:\n",
    "            books_titles.append(fields)"
   ]
  },
  {
   "cell_type": "code",
   "execution_count": 17,
   "id": "41ce3dff-3be7-4eaa-825c-a7ff1f93c3c1",
   "metadata": {},
   "outputs": [],
   "source": [
    "import pandas as pd\n",
    "# books_titles is a list of dictionaries\n",
    "titles = pd.DataFrame.from_dict(books_titles)"
   ]
  },
  {
   "cell_type": "code",
   "execution_count": 18,
   "id": "eaf1dbd7",
   "metadata": {},
   "outputs": [
    {
     "data": {
      "text/plain": [
       "(1782579, 5)"
      ]
     },
     "execution_count": 18,
     "metadata": {},
     "output_type": "execute_result"
    }
   ],
   "source": [
    "titles.shape"
   ]
  },
  {
   "cell_type": "code",
   "execution_count": 19,
   "id": "a33b8436-958b-40a9-b7c6-74cb352eb468",
   "metadata": {},
   "outputs": [],
   "source": [
    "titles[\"ratings\"] = pd.to_numeric(titles[\"ratings\"])"
   ]
  },
  {
   "cell_type": "code",
   "execution_count": 20,
   "id": "94216bb6-4efb-4ae3-9741-99266d423cef",
   "metadata": {},
   "outputs": [],
   "source": [
    "titles[\"mod_title\"] = titles[\"title\"].str.replace(\"[^a-zA-Z0-9 ]\", \"\", regex=True)"
   ]
  },
  {
   "cell_type": "code",
   "execution_count": null,
   "id": "5f021b18",
   "metadata": {},
   "outputs": [],
   "source": [
    "# what is this reg ex doing? [^a-zA-Z0-9 ]\n",
    "# ^ means not\n",
    "# a-z means all lowercase letters\n",
    "# A-Z means all uppercase letters\n",
    "# 0-9 means all numbers\n",
    "# \" \" means space\n",
    "# so this regex is saying \"replace everything that is not a letter, number, or space with nothing\""
   ]
  },
  {
   "cell_type": "code",
   "execution_count": 21,
   "id": "c6f0e50d-f6e3-42ce-8cbf-e1bfde803b01",
   "metadata": {},
   "outputs": [],
   "source": [
    "titles[\"mod_title\"] = titles[\"mod_title\"].str.lower()"
   ]
  },
  {
   "cell_type": "code",
   "execution_count": 22,
   "id": "68535edd-ff7a-43ce-829c-fb0bd8064895",
   "metadata": {},
   "outputs": [],
   "source": [
    "titles[\"mod_title\"] = titles[\"mod_title\"].str.replace(\"\\s+\", \" \", regex=True)"
   ]
  },
  {
   "cell_type": "code",
   "execution_count": null,
   "id": "aaa49207",
   "metadata": {},
   "outputs": [],
   "source": [
    "# what is this reg ex doing? \\s+\n",
    "# \\s means space\n",
    "# + means one or more\n",
    "# so this regex is saying \"replace all spaces with one space\""
   ]
  },
  {
   "cell_type": "code",
   "execution_count": 23,
   "id": "d50e3a03-9c89-45b7-b0d0-0050232e5c4f",
   "metadata": {},
   "outputs": [],
   "source": [
    "titles = titles[titles[\"mod_title\"].str.len() > 0]"
   ]
  },
  {
   "cell_type": "code",
   "execution_count": 24,
   "id": "3f3e6127-6b6a-4dc3-9a01-51f2a803c1db",
   "metadata": {},
   "outputs": [],
   "source": [
    "titles.to_json(\"books_titles.json\")"
   ]
  },
  {
   "cell_type": "code",
   "execution_count": 25,
   "id": "daa2a250-8e4e-4340-b241-dfaf0758ee02",
   "metadata": {},
   "outputs": [
    {
     "data": {
      "text/html": [
       "<div>\n",
       "<style scoped>\n",
       "    .dataframe tbody tr th:only-of-type {\n",
       "        vertical-align: middle;\n",
       "    }\n",
       "\n",
       "    .dataframe tbody tr th {\n",
       "        vertical-align: top;\n",
       "    }\n",
       "\n",
       "    .dataframe thead th {\n",
       "        text-align: right;\n",
       "    }\n",
       "</style>\n",
       "<table border=\"1\" class=\"dataframe\">\n",
       "  <thead>\n",
       "    <tr style=\"text-align: right;\">\n",
       "      <th></th>\n",
       "      <th>book_id</th>\n",
       "      <th>title</th>\n",
       "      <th>ratings</th>\n",
       "      <th>url</th>\n",
       "      <th>cover_image</th>\n",
       "      <th>mod_title</th>\n",
       "    </tr>\n",
       "  </thead>\n",
       "  <tbody>\n",
       "    <tr>\n",
       "      <th>0</th>\n",
       "      <td>1333909</td>\n",
       "      <td>Good Harbor</td>\n",
       "      <td>10</td>\n",
       "      <td>https://www.goodreads.com/book/show/1333909.Go...</td>\n",
       "      <td>https://s.gr-assets.com/assets/nophoto/book/11...</td>\n",
       "      <td>good harbor</td>\n",
       "    </tr>\n",
       "    <tr>\n",
       "      <th>1</th>\n",
       "      <td>7327624</td>\n",
       "      <td>The Unschooled Wizard (Sun Wolf and Starhawk, ...</td>\n",
       "      <td>140</td>\n",
       "      <td>https://www.goodreads.com/book/show/7327624-th...</td>\n",
       "      <td>https://images.gr-assets.com/books/1304100136m...</td>\n",
       "      <td>the unschooled wizard sun wolf and starhawk 12</td>\n",
       "    </tr>\n",
       "    <tr>\n",
       "      <th>2</th>\n",
       "      <td>6066819</td>\n",
       "      <td>Best Friends Forever</td>\n",
       "      <td>51184</td>\n",
       "      <td>https://www.goodreads.com/book/show/6066819-be...</td>\n",
       "      <td>https://s.gr-assets.com/assets/nophoto/book/11...</td>\n",
       "      <td>best friends forever</td>\n",
       "    </tr>\n",
       "    <tr>\n",
       "      <th>3</th>\n",
       "      <td>287140</td>\n",
       "      <td>Runic Astrology: Starcraft and Timekeeping in ...</td>\n",
       "      <td>15</td>\n",
       "      <td>https://www.goodreads.com/book/show/287140.Run...</td>\n",
       "      <td>https://images.gr-assets.com/books/1413219371m...</td>\n",
       "      <td>runic astrology starcraft and timekeeping in t...</td>\n",
       "    </tr>\n",
       "    <tr>\n",
       "      <th>4</th>\n",
       "      <td>287141</td>\n",
       "      <td>The Aeneid for Boys and Girls</td>\n",
       "      <td>46</td>\n",
       "      <td>https://www.goodreads.com/book/show/287141.The...</td>\n",
       "      <td>https://s.gr-assets.com/assets/nophoto/book/11...</td>\n",
       "      <td>the aeneid for boys and girls</td>\n",
       "    </tr>\n",
       "    <tr>\n",
       "      <th>...</th>\n",
       "      <td>...</td>\n",
       "      <td>...</td>\n",
       "      <td>...</td>\n",
       "      <td>...</td>\n",
       "      <td>...</td>\n",
       "      <td>...</td>\n",
       "    </tr>\n",
       "    <tr>\n",
       "      <th>1782574</th>\n",
       "      <td>3084038</td>\n",
       "      <td>This Sceptred Isle, Vol. 10: The Age of Victor...</td>\n",
       "      <td>12</td>\n",
       "      <td>https://www.goodreads.com/book/show/3084038-th...</td>\n",
       "      <td>https://images.gr-assets.com/books/1494763458m...</td>\n",
       "      <td>this sceptred isle vol 10 the age of victoria ...</td>\n",
       "    </tr>\n",
       "    <tr>\n",
       "      <th>1782575</th>\n",
       "      <td>26168430</td>\n",
       "      <td>Sherlock Holmes and the July Crisis</td>\n",
       "      <td>6</td>\n",
       "      <td>https://www.goodreads.com/book/show/26168430-s...</td>\n",
       "      <td>https://images.gr-assets.com/books/1440592011m...</td>\n",
       "      <td>sherlock holmes and the july crisis</td>\n",
       "    </tr>\n",
       "    <tr>\n",
       "      <th>1782576</th>\n",
       "      <td>2342551</td>\n",
       "      <td>The Children's Classic Poetry Collection</td>\n",
       "      <td>36</td>\n",
       "      <td>https://www.goodreads.com/book/show/2342551.Th...</td>\n",
       "      <td>https://s.gr-assets.com/assets/nophoto/book/11...</td>\n",
       "      <td>the childrens classic poetry collection</td>\n",
       "    </tr>\n",
       "    <tr>\n",
       "      <th>1782577</th>\n",
       "      <td>22017381</td>\n",
       "      <td>101 Nights: Volume One (101 Nights, #1-3)</td>\n",
       "      <td>70</td>\n",
       "      <td>https://www.goodreads.com/book/show/22017381-1...</td>\n",
       "      <td>https://images.gr-assets.com/books/1398621236m...</td>\n",
       "      <td>101 nights volume one 101 nights 13</td>\n",
       "    </tr>\n",
       "    <tr>\n",
       "      <th>1782578</th>\n",
       "      <td>11419866</td>\n",
       "      <td>The Spanish Duke's Virgin Bride (Innocent Mist...</td>\n",
       "      <td>7</td>\n",
       "      <td>https://www.goodreads.com/book/show/11419866-t...</td>\n",
       "      <td>https://s.gr-assets.com/assets/nophoto/book/11...</td>\n",
       "      <td>the spanish dukes virgin bride innocent mistre...</td>\n",
       "    </tr>\n",
       "  </tbody>\n",
       "</table>\n",
       "<p>1773389 rows × 6 columns</p>\n",
       "</div>"
      ],
      "text/plain": [
       "          book_id                                              title  ratings  \\\n",
       "0         1333909                                        Good Harbor       10   \n",
       "1         7327624  The Unschooled Wizard (Sun Wolf and Starhawk, ...      140   \n",
       "2         6066819                               Best Friends Forever    51184   \n",
       "3          287140  Runic Astrology: Starcraft and Timekeeping in ...       15   \n",
       "4          287141                      The Aeneid for Boys and Girls       46   \n",
       "...           ...                                                ...      ...   \n",
       "1782574   3084038  This Sceptred Isle, Vol. 10: The Age of Victor...       12   \n",
       "1782575  26168430                Sherlock Holmes and the July Crisis        6   \n",
       "1782576   2342551           The Children's Classic Poetry Collection       36   \n",
       "1782577  22017381          101 Nights: Volume One (101 Nights, #1-3)       70   \n",
       "1782578  11419866  The Spanish Duke's Virgin Bride (Innocent Mist...        7   \n",
       "\n",
       "                                                       url  \\\n",
       "0        https://www.goodreads.com/book/show/1333909.Go...   \n",
       "1        https://www.goodreads.com/book/show/7327624-th...   \n",
       "2        https://www.goodreads.com/book/show/6066819-be...   \n",
       "3        https://www.goodreads.com/book/show/287140.Run...   \n",
       "4        https://www.goodreads.com/book/show/287141.The...   \n",
       "...                                                    ...   \n",
       "1782574  https://www.goodreads.com/book/show/3084038-th...   \n",
       "1782575  https://www.goodreads.com/book/show/26168430-s...   \n",
       "1782576  https://www.goodreads.com/book/show/2342551.Th...   \n",
       "1782577  https://www.goodreads.com/book/show/22017381-1...   \n",
       "1782578  https://www.goodreads.com/book/show/11419866-t...   \n",
       "\n",
       "                                               cover_image  \\\n",
       "0        https://s.gr-assets.com/assets/nophoto/book/11...   \n",
       "1        https://images.gr-assets.com/books/1304100136m...   \n",
       "2        https://s.gr-assets.com/assets/nophoto/book/11...   \n",
       "3        https://images.gr-assets.com/books/1413219371m...   \n",
       "4        https://s.gr-assets.com/assets/nophoto/book/11...   \n",
       "...                                                    ...   \n",
       "1782574  https://images.gr-assets.com/books/1494763458m...   \n",
       "1782575  https://images.gr-assets.com/books/1440592011m...   \n",
       "1782576  https://s.gr-assets.com/assets/nophoto/book/11...   \n",
       "1782577  https://images.gr-assets.com/books/1398621236m...   \n",
       "1782578  https://s.gr-assets.com/assets/nophoto/book/11...   \n",
       "\n",
       "                                                 mod_title  \n",
       "0                                              good harbor  \n",
       "1           the unschooled wizard sun wolf and starhawk 12  \n",
       "2                                     best friends forever  \n",
       "3        runic astrology starcraft and timekeeping in t...  \n",
       "4                            the aeneid for boys and girls  \n",
       "...                                                    ...  \n",
       "1782574  this sceptred isle vol 10 the age of victoria ...  \n",
       "1782575                sherlock holmes and the july crisis  \n",
       "1782576            the childrens classic poetry collection  \n",
       "1782577                101 nights volume one 101 nights 13  \n",
       "1782578  the spanish dukes virgin bride innocent mistre...  \n",
       "\n",
       "[1773389 rows x 6 columns]"
      ]
     },
     "execution_count": 25,
     "metadata": {},
     "output_type": "execute_result"
    }
   ],
   "source": [
    "titles"
   ]
  },
  {
   "cell_type": "code",
   "execution_count": 26,
   "id": "fc17003a-e042-4844-b7f3-5bb807ee7570",
   "metadata": {},
   "outputs": [],
   "source": [
    "# inverse document frequency\n",
    "# tfidf = term frequency * inverse document frequency\n",
    "# term frequency = number of times a word appears in a document\n",
    "# inverse document frequency = log(number of documents / number of documents containing the word)\n",
    "# if a word appears in every document, the inverse document frequency is 0, so the tfidf is 0, because the word is not important\n",
    "from sklearn.feature_extraction.text import TfidfVectorizer\n",
    "vectorizer = TfidfVectorizer()\n",
    "\n",
    "tfidf = vectorizer.fit_transform(titles[\"mod_title\"])"
   ]
  },
  {
   "cell_type": "code",
   "execution_count": 27,
   "id": "fc60567c-feb3-4ff4-8b5e-07c33d881351",
   "metadata": {},
   "outputs": [],
   "source": [
    "# build a search engine\n",
    "# given a query, find the 5 most similar books\n",
    "# similarity = cosine similarity\n",
    "# cosine similarity = dot product of two vectors / product of the magnitudes of the two vectors\n",
    "# dot product = sum of the products of the corresponding elements of two vectors\n",
    "# magnitude = square root of the sum of the squares of the elements of a vector\n",
    "from sklearn.metrics.pairwise import cosine_similarity\n",
    "import numpy as np\n",
    "import re\n",
    "\n",
    "def make_clickable(val):\n",
    "    return '<a target=\"_blank\" href=\"{}\">Goodreads</a>'.format(val, val)\n",
    "\n",
    "def show_image(val):\n",
    "    return '<a href=\"{}\"><img src=\"{}\" width=50></img></a>'.format(val, val)\n",
    "\n",
    "def search(query,vectorizer):\n",
    "    processed = re.sub(\"[^a-zA-Z0-9 ]\", \"\", query.lower())\n",
    "    query_vec = vectorizer.transform([processed])\n",
    "    similarity = cosine_similarity(query_vec, tfidf).flatten()\n",
    "    # what is np.argpartition(similarity, -10)[-10:] doing?\n",
    "    # np.argpartition(similarity, -10) returns the indices of the 10 largest elements in similarity\n",
    "    # [-10:] returns the last 10 elements of the array\n",
    "    indices = np.argpartition(similarity, -10)[-10:]\n",
    "    results = titles.iloc[indices]\n",
    "    results = results.sort_values(\"ratings\", ascending=False)\n",
    "    \n",
    "    return results.head(5).style.format({'url': make_clickable, 'cover_image': show_image})"
   ]
  },
  {
   "cell_type": "code",
   "execution_count": 28,
   "id": "c5be8db0-bc22-4a69-b7ac-d3a1f9dd0d4f",
   "metadata": {},
   "outputs": [
    {
     "data": {
      "text/html": [
       "<style type=\"text/css\">\n",
       "</style>\n",
       "<table id=\"T_7c26a\">\n",
       "  <thead>\n",
       "    <tr>\n",
       "      <th class=\"blank level0\" >&nbsp;</th>\n",
       "      <th id=\"T_7c26a_level0_col0\" class=\"col_heading level0 col0\" >book_id</th>\n",
       "      <th id=\"T_7c26a_level0_col1\" class=\"col_heading level0 col1\" >title</th>\n",
       "      <th id=\"T_7c26a_level0_col2\" class=\"col_heading level0 col2\" >ratings</th>\n",
       "      <th id=\"T_7c26a_level0_col3\" class=\"col_heading level0 col3\" >url</th>\n",
       "      <th id=\"T_7c26a_level0_col4\" class=\"col_heading level0 col4\" >cover_image</th>\n",
       "      <th id=\"T_7c26a_level0_col5\" class=\"col_heading level0 col5\" >mod_title</th>\n",
       "    </tr>\n",
       "  </thead>\n",
       "  <tbody>\n",
       "    <tr>\n",
       "      <th id=\"T_7c26a_level0_row0\" class=\"row_heading level0 row0\" >754545</th>\n",
       "      <td id=\"T_7c26a_row0_col0\" class=\"data row0 col0\" >464164</td>\n",
       "      <td id=\"T_7c26a_row0_col1\" class=\"data row0 col1\" >Harry Potter and the Prisoner of Azkaban (Harry Potter, #3)</td>\n",
       "      <td id=\"T_7c26a_row0_col2\" class=\"data row0 col2\" >22794</td>\n",
       "      <td id=\"T_7c26a_row0_col3\" class=\"data row0 col3\" ><a target=\"_blank\" href=\"https://www.goodreads.com/book/show/464164.Harry_Potter_and_the_Prisoner_of_Azkaban\">Goodreads</a></td>\n",
       "      <td id=\"T_7c26a_row0_col4\" class=\"data row0 col4\" ><a href=\"https://images.gr-assets.com/books/1310384602m/464164.jpg\"><img src=\"https://images.gr-assets.com/books/1310384602m/464164.jpg\" width=50></img></a></td>\n",
       "      <td id=\"T_7c26a_row0_col5\" class=\"data row0 col5\" >harry potter and the prisoner of azkaban harry potter 3</td>\n",
       "    </tr>\n",
       "    <tr>\n",
       "      <th id=\"T_7c26a_level0_row1\" class=\"row_heading level0 row1\" >1236294</th>\n",
       "      <td id=\"T_7c26a_row1_col0\" class=\"data row1 col0\" >28765183</td>\n",
       "      <td id=\"T_7c26a_row1_col1\" class=\"data row1 col1\" >Harry Potter and the Prisoner of Azkaban</td>\n",
       "      <td id=\"T_7c26a_row1_col2\" class=\"data row1 col2\" >3066</td>\n",
       "      <td id=\"T_7c26a_row1_col3\" class=\"data row1 col3\" ><a target=\"_blank\" href=\"https://www.goodreads.com/book/show/28765183-harry-potter-and-the-prisoner-of-azkaban\">Goodreads</a></td>\n",
       "      <td id=\"T_7c26a_row1_col4\" class=\"data row1 col4\" ><a href=\"https://s.gr-assets.com/assets/nophoto/book/111x148-bcc042a9c91a29c1d680899eff700a03.png\"><img src=\"https://s.gr-assets.com/assets/nophoto/book/111x148-bcc042a9c91a29c1d680899eff700a03.png\" width=50></img></a></td>\n",
       "      <td id=\"T_7c26a_row1_col5\" class=\"data row1 col5\" >harry potter and the prisoner of azkaban</td>\n",
       "    </tr>\n",
       "    <tr>\n",
       "      <th id=\"T_7c26a_level0_row2\" class=\"row_heading level0 row2\" >343661</th>\n",
       "      <td id=\"T_7c26a_row2_col0\" class=\"data row2 col0\" >1132457</td>\n",
       "      <td id=\"T_7c26a_row2_col1\" class=\"data row2 col1\" >Harry Potter and the Prisoner of Azkaban (Harry Potter, #3)</td>\n",
       "      <td id=\"T_7c26a_row2_col2\" class=\"data row2 col2\" >372</td>\n",
       "      <td id=\"T_7c26a_row2_col3\" class=\"data row2 col3\" ><a target=\"_blank\" href=\"https://www.goodreads.com/book/show/1132457.Harry_Potter_and_the_Prisoner_of_Azkaban\">Goodreads</a></td>\n",
       "      <td id=\"T_7c26a_row2_col4\" class=\"data row2 col4\" ><a href=\"https://images.gr-assets.com/books/1467363945m/1132457.jpg\"><img src=\"https://images.gr-assets.com/books/1467363945m/1132457.jpg\" width=50></img></a></td>\n",
       "      <td id=\"T_7c26a_row2_col5\" class=\"data row2 col5\" >harry potter and the prisoner of azkaban harry potter 3</td>\n",
       "    </tr>\n",
       "    <tr>\n",
       "      <th id=\"T_7c26a_level0_row3\" class=\"row_heading level0 row3\" >1202032</th>\n",
       "      <td id=\"T_7c26a_row3_col0\" class=\"data row3 col0\" >1516338</td>\n",
       "      <td id=\"T_7c26a_row3_col1\" class=\"data row3 col1\" >Harry Potter and the Prisoner of Azkaban (Harry Potter, #3)</td>\n",
       "      <td id=\"T_7c26a_row3_col2\" class=\"data row3 col2\" >246</td>\n",
       "      <td id=\"T_7c26a_row3_col3\" class=\"data row3 col3\" ><a target=\"_blank\" href=\"https://www.goodreads.com/book/show/1516338.Harry_Potter_and_the_Prisoner_of_Azkaban\">Goodreads</a></td>\n",
       "      <td id=\"T_7c26a_row3_col4\" class=\"data row3 col4\" ><a href=\"https://s.gr-assets.com/assets/nophoto/book/111x148-bcc042a9c91a29c1d680899eff700a03.png\"><img src=\"https://s.gr-assets.com/assets/nophoto/book/111x148-bcc042a9c91a29c1d680899eff700a03.png\" width=50></img></a></td>\n",
       "      <td id=\"T_7c26a_row3_col5\" class=\"data row3 col5\" >harry potter and the prisoner of azkaban harry potter 3</td>\n",
       "    </tr>\n",
       "    <tr>\n",
       "      <th id=\"T_7c26a_level0_row4\" class=\"row_heading level0 row4\" >440131</th>\n",
       "      <td id=\"T_7c26a_row4_col0\" class=\"data row4 col0\" >13564690</td>\n",
       "      <td id=\"T_7c26a_row4_col1\" class=\"data row4 col1\" >Harry Potter and the Prisoner of Azkaban</td>\n",
       "      <td id=\"T_7c26a_row4_col2\" class=\"data row4 col2\" >216</td>\n",
       "      <td id=\"T_7c26a_row4_col3\" class=\"data row4 col3\" ><a target=\"_blank\" href=\"https://www.goodreads.com/book/show/13564690-harry-potter-and-the-prisoner-of-azkaban\">Goodreads</a></td>\n",
       "      <td id=\"T_7c26a_row4_col4\" class=\"data row4 col4\" ><a href=\"https://images.gr-assets.com/books/1332983314m/13564690.jpg\"><img src=\"https://images.gr-assets.com/books/1332983314m/13564690.jpg\" width=50></img></a></td>\n",
       "      <td id=\"T_7c26a_row4_col5\" class=\"data row4 col5\" >harry potter and the prisoner of azkaban</td>\n",
       "    </tr>\n",
       "  </tbody>\n",
       "</table>\n"
      ],
      "text/plain": [
       "<pandas.io.formats.style.Styler at 0x2289fe5f940>"
      ]
     },
     "execution_count": 28,
     "metadata": {},
     "output_type": "execute_result"
    }
   ],
   "source": [
    "search(\"harry potter and the prisoner of azkaban\", vectorizer)"
   ]
  },
  {
   "cell_type": "code",
   "execution_count": 40,
   "id": "11f0128e-2eaf-405f-bc12-ad8d1d593215",
   "metadata": {},
   "outputs": [
    {
     "data": {
      "text/plain": [
       "'harry potter and the prisoner of azkaban'"
      ]
     },
     "execution_count": 40,
     "metadata": {},
     "output_type": "execute_result"
    }
   ],
   "source": [
    "query = \"harry potter and the prisoner of azkaban\"\n",
    "processed = re.sub(\"[^a-zA-Z0-9 ]\", \"\", query.lower())\n",
    "processed"
   ]
  },
  {
   "cell_type": "code",
   "execution_count": 41,
   "id": "715e23e4",
   "metadata": {},
   "outputs": [
    {
     "data": {
      "text/plain": [
       "array([0.        , 0.03488748, 0.        , ..., 0.01512856, 0.        ,\n",
       "       0.00695407])"
      ]
     },
     "execution_count": 41,
     "metadata": {},
     "output_type": "execute_result"
    }
   ],
   "source": [
    "query_vec = vectorizer.transform([processed])\n",
    "similarity = cosine_similarity(query_vec, tfidf).flatten()\n",
    "similarity"
   ]
  },
  {
   "cell_type": "code",
   "execution_count": 48,
   "id": "73170ca4",
   "metadata": {},
   "outputs": [
    {
     "data": {
      "text/plain": [
       "array([1195819,  437161, 1297772,  341913,  750595,  833806,  437878,\n",
       "       1675969,  524412, 1229923], dtype=int64)"
      ]
     },
     "execution_count": 48,
     "metadata": {},
     "output_type": "execute_result"
    }
   ],
   "source": [
    "indices = np.argpartition(similarity, -10)[-10:]\n",
    "indices"
   ]
  },
  {
   "cell_type": "code",
   "execution_count": 49,
   "id": "9b8f4a2b",
   "metadata": {},
   "outputs": [
    {
     "data": {
      "text/html": [
       "<div>\n",
       "<style scoped>\n",
       "    .dataframe tbody tr th:only-of-type {\n",
       "        vertical-align: middle;\n",
       "    }\n",
       "\n",
       "    .dataframe tbody tr th {\n",
       "        vertical-align: top;\n",
       "    }\n",
       "\n",
       "    .dataframe thead th {\n",
       "        text-align: right;\n",
       "    }\n",
       "</style>\n",
       "<table border=\"1\" class=\"dataframe\">\n",
       "  <thead>\n",
       "    <tr style=\"text-align: right;\">\n",
       "      <th></th>\n",
       "      <th>book_id</th>\n",
       "      <th>title</th>\n",
       "      <th>ratings</th>\n",
       "      <th>url</th>\n",
       "      <th>cover_image</th>\n",
       "      <th>mod_title</th>\n",
       "    </tr>\n",
       "  </thead>\n",
       "  <tbody>\n",
       "    <tr>\n",
       "      <th>754545</th>\n",
       "      <td>464164</td>\n",
       "      <td>Harry Potter and the Prisoner of Azkaban (Harr...</td>\n",
       "      <td>22794</td>\n",
       "      <td>https://www.goodreads.com/book/show/464164.Har...</td>\n",
       "      <td>https://images.gr-assets.com/books/1310384602m...</td>\n",
       "      <td>harry potter and the prisoner of azkaban harry...</td>\n",
       "    </tr>\n",
       "    <tr>\n",
       "      <th>1236294</th>\n",
       "      <td>28765183</td>\n",
       "      <td>Harry Potter and the Prisoner of Azkaban</td>\n",
       "      <td>3066</td>\n",
       "      <td>https://www.goodreads.com/book/show/28765183-h...</td>\n",
       "      <td>https://s.gr-assets.com/assets/nophoto/book/11...</td>\n",
       "      <td>harry potter and the prisoner of azkaban</td>\n",
       "    </tr>\n",
       "    <tr>\n",
       "      <th>343661</th>\n",
       "      <td>1132457</td>\n",
       "      <td>Harry Potter and the Prisoner of Azkaban (Harr...</td>\n",
       "      <td>372</td>\n",
       "      <td>https://www.goodreads.com/book/show/1132457.Ha...</td>\n",
       "      <td>https://images.gr-assets.com/books/1467363945m...</td>\n",
       "      <td>harry potter and the prisoner of azkaban harry...</td>\n",
       "    </tr>\n",
       "    <tr>\n",
       "      <th>1202032</th>\n",
       "      <td>1516338</td>\n",
       "      <td>Harry Potter and the Prisoner of Azkaban (Harr...</td>\n",
       "      <td>246</td>\n",
       "      <td>https://www.goodreads.com/book/show/1516338.Ha...</td>\n",
       "      <td>https://s.gr-assets.com/assets/nophoto/book/11...</td>\n",
       "      <td>harry potter and the prisoner of azkaban harry...</td>\n",
       "    </tr>\n",
       "    <tr>\n",
       "      <th>440131</th>\n",
       "      <td>13564690</td>\n",
       "      <td>Harry Potter and the Prisoner of Azkaban</td>\n",
       "      <td>216</td>\n",
       "      <td>https://www.goodreads.com/book/show/13564690-h...</td>\n",
       "      <td>https://images.gr-assets.com/books/1332983314m...</td>\n",
       "      <td>harry potter and the prisoner of azkaban</td>\n",
       "    </tr>\n",
       "    <tr>\n",
       "      <th>1304461</th>\n",
       "      <td>72190</td>\n",
       "      <td>Harry Potter and the Prisoner of Azkaban (Harr...</td>\n",
       "      <td>110</td>\n",
       "      <td>https://www.goodreads.com/book/show/72190.Harr...</td>\n",
       "      <td>https://s.gr-assets.com/assets/nophoto/book/11...</td>\n",
       "      <td>harry potter and the prisoner of azkaban harry...</td>\n",
       "    </tr>\n",
       "    <tr>\n",
       "      <th>439404</th>\n",
       "      <td>30955401</td>\n",
       "      <td>Harry Potter and the Prisoner of Azkaban (Harr...</td>\n",
       "      <td>63</td>\n",
       "      <td>https://www.goodreads.com/book/show/30955401-h...</td>\n",
       "      <td>https://images.gr-assets.com/books/1467859929m...</td>\n",
       "      <td>harry potter and the prisoner of azkaban harry...</td>\n",
       "    </tr>\n",
       "    <tr>\n",
       "      <th>527153</th>\n",
       "      <td>23767995</td>\n",
       "      <td>Harry Potter and the Prisoner of Azkaban</td>\n",
       "      <td>49</td>\n",
       "      <td>https://www.goodreads.com/book/show/23767995-h...</td>\n",
       "      <td>https://images.gr-assets.com/books/1442436813m...</td>\n",
       "      <td>harry potter and the prisoner of azkaban</td>\n",
       "    </tr>\n",
       "    <tr>\n",
       "      <th>838201</th>\n",
       "      <td>13612284</td>\n",
       "      <td>Harry Potter and the Prisoner of Azkaban</td>\n",
       "      <td>33</td>\n",
       "      <td>https://www.goodreads.com/book/show/13612284-h...</td>\n",
       "      <td>https://images.gr-assets.com/books/1335089204m...</td>\n",
       "      <td>harry potter and the prisoner of azkaban</td>\n",
       "    </tr>\n",
       "    <tr>\n",
       "      <th>1684622</th>\n",
       "      <td>32944873</td>\n",
       "      <td>Harry Potter and the Prisoner of Azkaban</td>\n",
       "      <td>7</td>\n",
       "      <td>https://www.goodreads.com/book/show/32944873-h...</td>\n",
       "      <td>https://s.gr-assets.com/assets/nophoto/book/11...</td>\n",
       "      <td>harry potter and the prisoner of azkaban</td>\n",
       "    </tr>\n",
       "  </tbody>\n",
       "</table>\n",
       "</div>"
      ],
      "text/plain": [
       "          book_id                                              title  ratings  \\\n",
       "754545     464164  Harry Potter and the Prisoner of Azkaban (Harr...    22794   \n",
       "1236294  28765183           Harry Potter and the Prisoner of Azkaban     3066   \n",
       "343661    1132457  Harry Potter and the Prisoner of Azkaban (Harr...      372   \n",
       "1202032   1516338  Harry Potter and the Prisoner of Azkaban (Harr...      246   \n",
       "440131   13564690           Harry Potter and the Prisoner of Azkaban      216   \n",
       "1304461     72190  Harry Potter and the Prisoner of Azkaban (Harr...      110   \n",
       "439404   30955401  Harry Potter and the Prisoner of Azkaban (Harr...       63   \n",
       "527153   23767995           Harry Potter and the Prisoner of Azkaban       49   \n",
       "838201   13612284           Harry Potter and the Prisoner of Azkaban       33   \n",
       "1684622  32944873           Harry Potter and the Prisoner of Azkaban        7   \n",
       "\n",
       "                                                       url  \\\n",
       "754545   https://www.goodreads.com/book/show/464164.Har...   \n",
       "1236294  https://www.goodreads.com/book/show/28765183-h...   \n",
       "343661   https://www.goodreads.com/book/show/1132457.Ha...   \n",
       "1202032  https://www.goodreads.com/book/show/1516338.Ha...   \n",
       "440131   https://www.goodreads.com/book/show/13564690-h...   \n",
       "1304461  https://www.goodreads.com/book/show/72190.Harr...   \n",
       "439404   https://www.goodreads.com/book/show/30955401-h...   \n",
       "527153   https://www.goodreads.com/book/show/23767995-h...   \n",
       "838201   https://www.goodreads.com/book/show/13612284-h...   \n",
       "1684622  https://www.goodreads.com/book/show/32944873-h...   \n",
       "\n",
       "                                               cover_image  \\\n",
       "754545   https://images.gr-assets.com/books/1310384602m...   \n",
       "1236294  https://s.gr-assets.com/assets/nophoto/book/11...   \n",
       "343661   https://images.gr-assets.com/books/1467363945m...   \n",
       "1202032  https://s.gr-assets.com/assets/nophoto/book/11...   \n",
       "440131   https://images.gr-assets.com/books/1332983314m...   \n",
       "1304461  https://s.gr-assets.com/assets/nophoto/book/11...   \n",
       "439404   https://images.gr-assets.com/books/1467859929m...   \n",
       "527153   https://images.gr-assets.com/books/1442436813m...   \n",
       "838201   https://images.gr-assets.com/books/1335089204m...   \n",
       "1684622  https://s.gr-assets.com/assets/nophoto/book/11...   \n",
       "\n",
       "                                                 mod_title  \n",
       "754545   harry potter and the prisoner of azkaban harry...  \n",
       "1236294           harry potter and the prisoner of azkaban  \n",
       "343661   harry potter and the prisoner of azkaban harry...  \n",
       "1202032  harry potter and the prisoner of azkaban harry...  \n",
       "440131            harry potter and the prisoner of azkaban  \n",
       "1304461  harry potter and the prisoner of azkaban harry...  \n",
       "439404   harry potter and the prisoner of azkaban harry...  \n",
       "527153            harry potter and the prisoner of azkaban  \n",
       "838201            harry potter and the prisoner of azkaban  \n",
       "1684622           harry potter and the prisoner of azkaban  "
      ]
     },
     "execution_count": 49,
     "metadata": {},
     "output_type": "execute_result"
    }
   ],
   "source": [
    "results = titles.iloc[indices]\n",
    "results.sort_values(\"ratings\", ascending=False)"
   ]
  },
  {
   "cell_type": "code",
   "execution_count": null,
   "id": "6e7cae62",
   "metadata": {},
   "outputs": [],
   "source": []
  }
 ],
 "metadata": {
  "kernelspec": {
   "display_name": "Python 3 (ipykernel)",
   "language": "python",
   "name": "python3"
  },
  "language_info": {
   "codemirror_mode": {
    "name": "ipython",
    "version": 3
   },
   "file_extension": ".py",
   "mimetype": "text/x-python",
   "name": "python",
   "nbconvert_exporter": "python",
   "pygments_lexer": "ipython3",
   "version": "3.8.12"
  }
 },
 "nbformat": 4,
 "nbformat_minor": 5
}
